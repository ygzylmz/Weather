{
 "cells": [
  {
   "cell_type": "markdown",
   "metadata": {},
   "source": [
    "# Geometrik Aralıklı Sınıflandırma \n",
    "### (Geometric Interval Classification)"
   ]
  },
  {
   "cell_type": "markdown",
   "metadata": {},
   "source": [
    "Geomerik serinin genel formu aşağıdaki şekilde tanımlanır.\n",
    "<br>\n",
    "$$a, ar, ar^{2}, ar^{3}, ... , ar^{n-1}$$\n",
    "<br>\n",
    "Burada bir verş setini geometrik seri açılımından faydalanarak 0 ile 100 değerleri arasında $n$ adet sınıfta tanımlayacağız. "
   ]
  },
  {
   "cell_type": "code",
   "execution_count": 1,
   "metadata": {},
   "outputs": [],
   "source": [
    "# Kütüphaneler\n",
    "import pandas as pd\n",
    "import numpy as np\n",
    "import matplotlib.pyplot as plt\n",
    "from copy import copy\n",
    "\n",
    "%matplotlib inline"
   ]
  },
  {
   "cell_type": "markdown",
   "metadata": {},
   "source": [
    "**Geometrik aralıklı sınıflandırma işlemi sabitleri**\n",
    "<br>\n",
    "<br>\n",
    "Kullanıcıdan yalnızca sınıf sayısı ($n$) istenir. Diğer değerler hesaplanır. \n",
    "<br>\n",
    "<br>\n",
    "Sabit değerin ($a$) bulunması için iteratif bir çözüm uydurulmuştur. Verilerin dağılımı içerisinde 1'in sınıf sayısına bölünmesiyle elde edilen yüzdelik dilimin üstel ifade ($r$) ile çarpılması iteratif olarak çözülür. Belirlenen hata mertebesinden mertebesinden küçük olana kadar bu çözüme devam edilir.\n",
    "<br>\n",
    "Bilgi: https://www-users.york.ac.uk/~mb55/intro/quantile.htm\n",
    "<br>\n",
    "$$\\frac{1}{n} \\rightarrow Q$$\n",
    "<br>\n",
    "$$a_1={r_1}{Q_1}\\;\\;\\;...\\;\\;\\;a_m={r_m}{Q_m} \\;\\; (Error<10^{-5})$$\n",
    "<br>\n",
    "$$Error = \\frac{|a_m - a_{m-1}|}{a_m}$$\n",
    "<br>\n",
    "<br>\n",
    "Üstel ifadeyi ($r$) bulmak için veri setinin maksimum değeri en büyük sınıf değeri olarak belirlenir.\n",
    "<br>\n",
    "$$ar^{n-1}=max(Data)$$\n",
    "<br>\n",
    "Bu ifadeden $r$ değeri çekilir.\n",
    "<br>\n",
    "$$r=\\sqrt[n-1]{\\frac{max(Data)}{a}}$$"
   ]
  },
  {
   "cell_type": "code",
   "execution_count": 2,
   "metadata": {},
   "outputs": [],
   "source": [
    "\"\"\"\n",
    "Geometrik aralıklı sınıflandırma fonksiyonu\n",
    "\n",
    "Değişkenler:\n",
    " df: dataframe\n",
    " classNumber: Kaç adet sınıf kullanılacağı (n)\n",
    " constant: Serideki sabit değer (a)\n",
    " rValue: Üstel ifade (r)\n",
    "\"\"\"\n",
    "    \n",
    "def gi_classify(df, classNumber):  \n",
    "    try:\n",
    "        constantOld = 1e20\n",
    "        rValue = 1\n",
    "        error = 1e-5\n",
    "        \n",
    "        # Not: İteratif olarak constant hesaplama yöntemi uydurdum.\n",
    "        for i in range(0, 999):\n",
    "            constant = rValue * df.Intensity.quantile(1 / classNumber)\n",
    "            rValue = (df.Intensity.max() / constant) ** (1 / (classNumber - 1))   \n",
    "\n",
    "            plt.scatter(i, constant, color=\"blue\")\n",
    "        \n",
    "            if (abs(constantOld - constant) / constant <= error ):\n",
    "                break\n",
    "        \n",
    "            constantOld = constant\n",
    "        \n",
    "        plt.xlabel(\"İterasyon\")\n",
    "        plt.ylabel(\"Constant değeri\")\n",
    "        plt.show()\n",
    "        \n",
    "    except RuntimeWarning:\n",
    "        # Değerler 0'a yakınsarsa constant'a sabit bir sayı atanır.\n",
    "        constant = 10000\n",
    "        rValue = (df.Intensity.max() / constant) ** (1 / (classNumber - 1))   \n",
    "    \n",
    "    print(\"classNumber: {}\".format(classNumber))\n",
    "    print(\"constant: {}\".format(constant))\n",
    "    print(\"rValue: {}\".format(rValue))\n",
    "    \n",
    "    \"\"\"\n",
    "    quantile işlevi JavaScript'te mevcut değilse onun fonksiyonunu ayrı \n",
    "    yazabiirim ya da constant değerini de classify fonksiyonuna input olarak \n",
    "    verebiliriz.\n",
    "    \"\"\"\n",
    "    \n",
    "    dfCopy = copy(df)\n",
    "    dfCopy.Intensity = 0\n",
    "    \n",
    "    classes = []\n",
    "    percentages = []\n",
    "    \n",
    "    # Sınıf değerleri ve yüzde aralıkları oluşturulur.\n",
    "    for i in range(0, classNumber):\n",
    "        classes.append(constant * (rValue ** i))\n",
    "        percentages.append(i * (100 / classNumber))\n",
    "    \n",
    "    print(\"Classes: {}\".format(classes))\n",
    "    print(\"Percentages: {}\".format(percentages))\n",
    "    \n",
    "    # Eşdeğer yüzdesel değerler dfCopy içerisine aktarılır.\n",
    "    for i in range(classNumber - 1, -1, -1):    \n",
    "        dfCopy.Intensity = np.where(df.Intensity <= classes[i], percentages[i], dfCopy.Intensity)\n",
    "        \n",
    "    return dfCopy\n"
   ]
  },
  {
   "cell_type": "code",
   "execution_count": 3,
   "metadata": {},
   "outputs": [
    {
     "name": "stdout",
     "output_type": "stream",
     "text": [
      "         Lat       Lon   Intensity\n",
      "0  45.686083  8.550842    0.000000\n",
      "1  45.686083  8.730505    0.134601\n",
      "2  45.686083  8.910168  148.267476\n",
      "3  45.686083  9.089832  600.396757\n",
      "4  45.686083  9.269495  844.344459\n"
     ]
    },
    {
     "data": {
      "image/png": "[encoded data removed]",
      "text/plain": [
       "<Figure size 432x288 with 1 Axes>"
      ]
     },
     "metadata": {
      "needs_background": "light"
     },
     "output_type": "display_data"
    },
    {
     "name": "stdout",
     "output_type": "stream",
     "text": [
      "classNumber: 5\n",
      "constant: 30157.44476349069\n",
      "rValue: 1.6327724553848701\n",
      "Classes: [30157.44476349069, 49240.245134618286, 80398.11595220362, 131271.82919159697, 214337.02687202708]\n",
      "Percentages: [0.0, 20.0, 40.0, 60.0, 80.0]\n"
     ]
    }
   ],
   "source": [
    "# Veri seti\n",
    "fileName = \"lightning_heat_map_austria.csv\"\n",
    "df = pd.read_csv(fileName)\n",
    "\n",
    "print(df.head())\n",
    "\n",
    "# Sınıf sayısı\n",
    "classNumber = 5\n",
    "\n",
    "# Sınıflandır\n",
    "classified_df = gi_classify(df, classNumber)\n"
   ]
  },
  {
   "cell_type": "code",
   "execution_count": 4,
   "metadata": {},
   "outputs": [
    {
     "name": "stdout",
     "output_type": "stream",
     "text": [
      "         Lat       Lon  Intensity\n",
      "0  45.686083  8.550842        0.0\n",
      "1  45.686083  8.730505        0.0\n",
      "2  45.686083  8.910168        0.0\n",
      "3  45.686083  9.089832        0.0\n",
      "4  45.686083  9.269495        0.0\n"
     ]
    }
   ],
   "source": [
    "# Sınıflandırılmış dataframe\n",
    "print(classified_df.head())\n",
    "\n",
    "# Dosyaya yazdır\n",
    "classified_df.to_csv(\"classified_\" + fileName, index=None)\n"
   ]
  },
  {
   "cell_type": "markdown",
   "metadata": {},
   "source": [
    "**Linkler:**\n",
    "<br>\n",
    "<br>\n",
    "https://en.wikipedia.org/wiki/Geometric_progression\n",
    "<br>\n",
    "http://wiki.gis.com/wiki/index.php/Geometric_Interval_Classification\n",
    "<br>\n",
    "https://pro.arcgis.com/en/pro-app/help/mapping/layer-properties/data-classification-methods.htm"
   ]
  }
 ],
 "metadata": {
  "kernelspec": {
   "display_name": "Python 3",
   "language": "python",
   "name": "python3"
  },
  "language_info": {
   "codemirror_mode": {
    "name": "ipython",
    "version": 3
   },
   "file_extension": ".py",
   "mimetype": "text/x-python",
   "name": "python",
   "nbconvert_exporter": "python",
   "pygments_lexer": "ipython3",
   "version": "3.6.6"
  }
 },
 "nbformat": 4,
 "nbformat_minor": 2
}
